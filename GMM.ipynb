{
 "cells": [
  {
   "cell_type": "markdown",
   "metadata": {},
   "source": [
    "First I import the needed libraries as below:"
   ]
  },
  {
   "cell_type": "code",
   "execution_count": 2,
   "metadata": {},
   "outputs": [],
   "source": [
    "import pandas as pd\n",
    "import numpy as np\n",
    "from matplotlib import pyplot as plt\n",
    "from sklearn.mixture import GaussianMixture\n",
    "from sklearn.preprocessing import MinMaxScaler"
   ]
  },
  {
   "cell_type": "markdown",
   "metadata": {},
   "source": [
    "I read the test and train data, and standarize the data to minimize the computations:"
   ]
  },
  {
   "cell_type": "code",
   "execution_count": 3,
   "metadata": {},
   "outputs": [],
   "source": [
    "data = pd.read_csv(\"/Users/Nika/Desktop/ML_HW5/mnist_train.csv\")\n",
    "labels = data[\"label\"]\n",
    "del data[\"label\"]\n",
    "test = pd.read_csv(\"/Users/Nika/Desktop/ML_HW5/mnist_test.csv\")\n",
    "y_test = test[\"label\"]\n",
    "del test[\"label\"]\n",
    "\n",
    "scaler = MinMaxScaler()\n",
    "data = scaler.fit_transform(data)"
   ]
  },
  {
   "cell_type": "markdown",
   "metadata": {},
   "source": [
    "I check the model for different number of components as below, by using the **GaussianMixture** library:"
   ]
  },
  {
   "cell_type": "code",
   "execution_count": 4,
   "metadata": {},
   "outputs": [],
   "source": [
    "num_components = np.arange(1,101,5)\n",
    "gmm = []\n",
    "for n in num_components:\n",
    "    gmm.append(GaussianMixture(n))"
   ]
  },
  {
   "cell_type": "markdown",
   "metadata": {},
   "source": [
    "I plot the AIC graph for each model as below, knowing that the best model is the one with the **lowest** AIC score."
   ]
  },
  {
   "cell_type": "code",
   "execution_count": null,
   "metadata": {},
   "outputs": [],
   "source": [
    "aic = []\n",
    "for model in gmm:\n",
    "    aic.append(model.fit(data).aic(data))"
   ]
  },
  {
   "cell_type": "code",
   "execution_count": null,
   "metadata": {},
   "outputs": [],
   "source": [
    "plt.plot(num_components, aic)\n",
    "plt.title(\"aic by num of components\")\n",
    "plt.xlabel(\"num of components\")\n",
    "plt.ylabel(\"aic\")\n",
    "plt.show()"
   ]
  },
  {
   "cell_type": "markdown",
   "metadata": {},
   "source": [
    "PART B:\n",
    "\n",
    "\n",
    "by choosing the num of components equal to 60 as below, I get 100 samples from the model:"
   ]
  },
  {
   "cell_type": "code",
   "execution_count": null,
   "metadata": {},
   "outputs": [],
   "source": [
    "gm = GaussianMixture(n_components=60, random_state=0).fit(data)\n",
    "print(\"accuracy =\",gm.score(test,y_test))"
   ]
  },
  {
   "cell_type": "markdown",
   "metadata": {},
   "source": [
    "Testing **convergence** on the model:"
   ]
  },
  {
   "cell_type": "code",
   "execution_count": null,
   "metadata": {},
   "outputs": [],
   "source": [
    "samples = gm.sample(n_samples = 100)\n",
    "plt.plot(samples[0],samples[1])"
   ]
  },
  {
   "cell_type": "markdown",
   "metadata": {},
   "source": [
    "PART C:\n",
    "\n",
    "\n",
    "implementing **PCA** on the model:"
   ]
  },
  {
   "cell_type": "code",
   "execution_count": 6,
   "metadata": {},
   "outputs": [],
   "source": [
    "from sklearn.decomposition import PCA\n",
    "pca = PCA(n_components = 0.95)\n",
    "pca.fit(data)\n",
    "reduced = pca.transform(data)"
   ]
  },
  {
   "cell_type": "markdown",
   "metadata": {},
   "source": [
    "Implementing the gausssian mixture model on the reduced data, and getting 100 samples from the model and checking **convergance**:"
   ]
  },
  {
   "cell_type": "code",
   "execution_count": null,
   "metadata": {},
   "outputs": [],
   "source": [
    "gm = GaussianMixture(n_components=60, random_state=0).fit(reduced)\n",
    "print(\"accuracy =\",gm.score(test,y_test))"
   ]
  },
  {
   "cell_type": "code",
   "execution_count": null,
   "metadata": {},
   "outputs": [],
   "source": [
    "samples = gm.sample(n_samples = 100)\n",
    "plt.plot(samples[0],samples[1])"
   ]
  },
  {
   "cell_type": "markdown",
   "metadata": {},
   "source": [
    "PART D:\n",
    "\n",
    "\n",
    "Comparing the results before and after implementing pca:\n",
    "\n",
    "\n",
    "In the **PCA** method by reducing the dimensions, we **simplify** the calculations and the algorithm becomes much **faster**, still with a **good accuracy** so it is a good choice for GMM models.\n"
   ]
  }
 ],
 "metadata": {
  "kernelspec": {
   "display_name": "Python 3",
   "language": "python",
   "name": "python3"
  },
  "language_info": {
   "codemirror_mode": {
    "name": "ipython",
    "version": 3
   },
   "file_extension": ".py",
   "mimetype": "text/x-python",
   "name": "python",
   "nbconvert_exporter": "python",
   "pygments_lexer": "ipython3",
   "version": "3.8.5"
  },
  "vscode": {
   "interpreter": {
    "hash": "eeab3e71adb6dbd0e75fb9a8c9bdb5e7c4aba7cf3fd60c4dcf30c1777b01516d"
   }
  }
 },
 "nbformat": 4,
 "nbformat_minor": 2
}
